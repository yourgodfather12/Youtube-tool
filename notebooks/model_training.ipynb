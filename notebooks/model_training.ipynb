{
 "cells": [
  {
   "cell_type": "markdown",
   "metadata": {},
   "source": [
    "# Model Training Notebook"
   ]
  },
  {
   "cell_type": "code",
   "execution_count": null,
   "metadata": {},
   "outputs": [],
   "source": [
    "from transformers import GPT2LMHeadModel, GPT2Tokenizer\n",
    "import torch\n",
    "\n",
    "tokenizer = GPT2Tokenizer.from_pretrained('gpt2')\n",
    "model = GPT2LMHeadModel.from_pretrained('gpt2')\n",
    "\n",
    "inputs = tokenizer.encode('The future of AI in video editing is', return_tensors='pt')\n",
    "outputs = model.generate(inputs, max_length=100, num_return_sequences=3)\n",
    "\n",
    "for i, output in enumerate(outputs):\n",
    "    print(f"Generated Text {i+1}: {tokenizer.decode(output, skip_special_tokens=True)}")"
   ]
  }
 ],
 "metadata": {},
 "nbformat": 4,
 "nbformat_minor": 2
}
